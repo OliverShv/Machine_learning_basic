{
 "cells": [
  {
   "cell_type": "markdown",
   "metadata": {},
   "source": [
    "<h1>Sub-task 1.1</h1>"
   ]
  },
  {
   "cell_type": "code",
   "execution_count": 1,
   "metadata": {},
   "outputs": [],
   "source": [
    "import pandas as pd\n",
    "from sklearn.linear_model import LinearRegression\n",
    "from sklearn.model_selection import train_test_split\n",
    "from sklearn.metrics import mean_squared_error\n",
    "from sklearn.metrics import r2_score\n",
    "from sklearn.neural_network import MLPRegressor\n",
    "import matplotlib.pyplot as plt\n",
    "import numpy as np\n",
    "import ipyvolume as ipv\n",
    "\n",
    "import warnings\n",
    "warnings.simplefilter(\"ignore\")"
   ]
  },
  {
   "cell_type": "code",
   "execution_count": 2,
   "metadata": {},
   "outputs": [
    {
     "data": {
      "text/html": [
       "<div>\n",
       "<style scoped>\n",
       "    .dataframe tbody tr th:only-of-type {\n",
       "        vertical-align: middle;\n",
       "    }\n",
       "\n",
       "    .dataframe tbody tr th {\n",
       "        vertical-align: top;\n",
       "    }\n",
       "\n",
       "    .dataframe thead th {\n",
       "        text-align: right;\n",
       "    }\n",
       "</style>\n",
       "<table border=\"1\" class=\"dataframe\">\n",
       "  <thead>\n",
       "    <tr style=\"text-align: right;\">\n",
       "      <th></th>\n",
       "      <th>value</th>\n",
       "      <th>response</th>\n",
       "    </tr>\n",
       "  </thead>\n",
       "  <tbody>\n",
       "    <tr>\n",
       "      <th>0</th>\n",
       "      <td>0.43383</td>\n",
       "      <td>0.31047</td>\n",
       "    </tr>\n",
       "    <tr>\n",
       "      <th>1</th>\n",
       "      <td>-3.70230</td>\n",
       "      <td>12.49900</td>\n",
       "    </tr>\n",
       "    <tr>\n",
       "      <th>2</th>\n",
       "      <td>0.52219</td>\n",
       "      <td>0.67190</td>\n",
       "    </tr>\n",
       "    <tr>\n",
       "      <th>3</th>\n",
       "      <td>-3.50940</td>\n",
       "      <td>11.59400</td>\n",
       "    </tr>\n",
       "    <tr>\n",
       "      <th>4</th>\n",
       "      <td>-2.41450</td>\n",
       "      <td>10.46400</td>\n",
       "    </tr>\n",
       "  </tbody>\n",
       "</table>\n",
       "</div>"
      ],
      "text/plain": [
       "     value  response\n",
       "0  0.43383   0.31047\n",
       "1 -3.70230  12.49900\n",
       "2  0.52219   0.67190\n",
       "3 -3.50940  11.59400\n",
       "4 -2.41450  10.46400"
      ]
     },
     "execution_count": 2,
     "metadata": {},
     "output_type": "execute_result"
    }
   ],
   "source": [
    "data = pd.read_csv(\"regression1.csv\", names=[\"value\",\"response\"])\n",
    "data.head()"
   ]
  },
  {
   "cell_type": "code",
   "execution_count": 3,
   "metadata": {},
   "outputs": [],
   "source": [
    "X = data[\"value\"][:, np.newaxis]\n",
    "Y = data[\"response\"][:, np.newaxis]\n",
    "\n",
    "Xtrain, Xtest, ytrain, ytest = train_test_split(X, Y,\n",
    "                                                test_size = 0.33)\n",
    "regr = LinearRegression(fit_intercept = True)\n",
    "model = regr.fit(Xtrain, ytrain)\n",
    "y_pred = model.predict(Xtest)"
   ]
  },
  {
   "cell_type": "code",
   "execution_count": 4,
   "metadata": {},
   "outputs": [
    {
     "data": {
      "image/png": "[encoded data removed]",
      "text/plain": [
       "<Figure size 720x432 with 1 Axes>"
      ]
     },
     "metadata": {
      "needs_background": "light"
     },
     "output_type": "display_data"
    }
   ],
   "source": [
    "plt.figure(figsize = (10,6))\n",
    "plt.scatter(X, Y, alpha = 0.5)\n",
    "plt.plot(Xtest, y_pred, 'r-');\n",
    "#linear_reg.jpg"
   ]
  },
  {
   "cell_type": "code",
   "execution_count": 5,
   "metadata": {},
   "outputs": [
    {
     "name": "stdout",
     "output_type": "stream",
     "text": [
      "Intercept: [2.02189519]\n",
      "Slope: [[-2.97410567]]\n",
      "Mean squared error: 0.49332981639664597\n",
      "R2: 0.9940188696124558\n"
     ]
    }
   ],
   "source": [
    "print(\"Intercept:\", model.intercept_)\n",
    "print(\"Slope:\", model.coef_)\n",
    "print(\"Mean squared error:\", mean_squared_error(ytest, y_pred))\n",
    "print(\"R2:\", r2_score(ytest, y_pred))"
   ]
  },
  {
   "cell_type": "markdown",
   "metadata": {},
   "source": [
    "<h1>Sub-task 1.2</h1>"
   ]
  },
  {
   "cell_type": "markdown",
   "metadata": {},
   "source": [
    "<h3>Data is imported</h3>"
   ]
  },
  {
   "cell_type": "code",
   "execution_count": 6,
   "metadata": {},
   "outputs": [
    {
     "data": {
      "text/html": [
       "<div>\n",
       "<style scoped>\n",
       "    .dataframe tbody tr th:only-of-type {\n",
       "        vertical-align: middle;\n",
       "    }\n",
       "\n",
       "    .dataframe tbody tr th {\n",
       "        vertical-align: top;\n",
       "    }\n",
       "\n",
       "    .dataframe thead th {\n",
       "        text-align: right;\n",
       "    }\n",
       "</style>\n",
       "<table border=\"1\" class=\"dataframe\">\n",
       "  <thead>\n",
       "    <tr style=\"text-align: right;\">\n",
       "      <th></th>\n",
       "      <th>value_1</th>\n",
       "      <th>value_2</th>\n",
       "      <th>response</th>\n",
       "    </tr>\n",
       "  </thead>\n",
       "  <tbody>\n",
       "    <tr>\n",
       "      <th>0</th>\n",
       "      <td>4.7720</td>\n",
       "      <td>-1.87800</td>\n",
       "      <td>45.480</td>\n",
       "    </tr>\n",
       "    <tr>\n",
       "      <th>1</th>\n",
       "      <td>4.3608</td>\n",
       "      <td>0.49696</td>\n",
       "      <td>85.031</td>\n",
       "    </tr>\n",
       "    <tr>\n",
       "      <th>2</th>\n",
       "      <td>3.9274</td>\n",
       "      <td>0.52582</td>\n",
       "      <td>76.012</td>\n",
       "    </tr>\n",
       "    <tr>\n",
       "      <th>3</th>\n",
       "      <td>-0.5647</td>\n",
       "      <td>1.40400</td>\n",
       "      <td>-31.961</td>\n",
       "    </tr>\n",
       "    <tr>\n",
       "      <th>4</th>\n",
       "      <td>2.5153</td>\n",
       "      <td>0.96649</td>\n",
       "      <td>30.361</td>\n",
       "    </tr>\n",
       "  </tbody>\n",
       "</table>\n",
       "</div>"
      ],
      "text/plain": [
       "   value_1  value_2  response\n",
       "0   4.7720 -1.87800    45.480\n",
       "1   4.3608  0.49696    85.031\n",
       "2   3.9274  0.52582    76.012\n",
       "3  -0.5647  1.40400   -31.961\n",
       "4   2.5153  0.96649    30.361"
      ]
     },
     "execution_count": 6,
     "metadata": {},
     "output_type": "execute_result"
    }
   ],
   "source": [
    "data = pd.read_csv(\"regression2.csv\", names=[\"value_1\",\"value_2\",\"response\"])\n",
    "data.head()"
   ]
  },
  {
   "cell_type": "code",
   "execution_count": 7,
   "metadata": {},
   "outputs": [
    {
     "data": {
      "text/html": [
       "<div>\n",
       "<style scoped>\n",
       "    .dataframe tbody tr th:only-of-type {\n",
       "        vertical-align: middle;\n",
       "    }\n",
       "\n",
       "    .dataframe tbody tr th {\n",
       "        vertical-align: top;\n",
       "    }\n",
       "\n",
       "    .dataframe thead th {\n",
       "        text-align: right;\n",
       "    }\n",
       "</style>\n",
       "<table border=\"1\" class=\"dataframe\">\n",
       "  <thead>\n",
       "    <tr style=\"text-align: right;\">\n",
       "      <th></th>\n",
       "      <th>value_1</th>\n",
       "      <th>value_2</th>\n",
       "      <th>response</th>\n",
       "    </tr>\n",
       "  </thead>\n",
       "  <tbody>\n",
       "    <tr>\n",
       "      <th>count</th>\n",
       "      <td>500.000000</td>\n",
       "      <td>500.000000</td>\n",
       "      <td>500.000000</td>\n",
       "    </tr>\n",
       "    <tr>\n",
       "      <th>mean</th>\n",
       "      <td>0.233412</td>\n",
       "      <td>-0.019102</td>\n",
       "      <td>9.323165</td>\n",
       "    </tr>\n",
       "    <tr>\n",
       "      <th>std</th>\n",
       "      <td>2.903314</td>\n",
       "      <td>2.890870</td>\n",
       "      <td>47.539126</td>\n",
       "    </tr>\n",
       "    <tr>\n",
       "      <th>min</th>\n",
       "      <td>-4.999300</td>\n",
       "      <td>-4.989100</td>\n",
       "      <td>-138.930000</td>\n",
       "    </tr>\n",
       "    <tr>\n",
       "      <th>25%</th>\n",
       "      <td>-2.285350</td>\n",
       "      <td>-2.511675</td>\n",
       "      <td>-23.345750</td>\n",
       "    </tr>\n",
       "    <tr>\n",
       "      <th>50%</th>\n",
       "      <td>0.327460</td>\n",
       "      <td>-0.121155</td>\n",
       "      <td>5.001250</td>\n",
       "    </tr>\n",
       "    <tr>\n",
       "      <th>75%</th>\n",
       "      <td>2.706875</td>\n",
       "      <td>2.479325</td>\n",
       "      <td>42.488250</td>\n",
       "    </tr>\n",
       "    <tr>\n",
       "      <th>max</th>\n",
       "      <td>4.989400</td>\n",
       "      <td>4.977400</td>\n",
       "      <td>142.150000</td>\n",
       "    </tr>\n",
       "  </tbody>\n",
       "</table>\n",
       "</div>"
      ],
      "text/plain": [
       "          value_1     value_2    response\n",
       "count  500.000000  500.000000  500.000000\n",
       "mean     0.233412   -0.019102    9.323165\n",
       "std      2.903314    2.890870   47.539126\n",
       "min     -4.999300   -4.989100 -138.930000\n",
       "25%     -2.285350   -2.511675  -23.345750\n",
       "50%      0.327460   -0.121155    5.001250\n",
       "75%      2.706875    2.479325   42.488250\n",
       "max      4.989400    4.977400  142.150000"
      ]
     },
     "execution_count": 7,
     "metadata": {},
     "output_type": "execute_result"
    }
   ],
   "source": [
    "data.describe(include = \"all\")"
   ]
  },
  {
   "cell_type": "markdown",
   "metadata": {},
   "source": [
    "<h3>Data is split and placed on a scatter graph</h3>"
   ]
  },
  {
   "cell_type": "code",
   "execution_count": 8,
   "metadata": {},
   "outputs": [
    {
     "data": {
      "application/vnd.jupyter.widget-view+json": {
       "model_id": "451fec50c90342e99cd0b9755e641909",
       "version_major": 2,
       "version_minor": 0
      },
      "text/plain": [
       "VBox(children=(Figure(camera=PerspectiveCamera(fov=45.0, position=(0.0, 0.0, 2.0), projectionMatrix=(1.0, 0.0,…"
      ]
     },
     "metadata": {},
     "output_type": "display_data"
    }
   ],
   "source": [
    "x = data.iloc[:,0].to_numpy(dtype=float)\n",
    "y = data.iloc[:,1].to_numpy(dtype=float)\n",
    "z = data.iloc[:,2].to_numpy(dtype=float)\n",
    "\n",
    "fig = ipv.figure()\n",
    "scatter = ipv.scatter(x,y,z, marker=\"sphere\")\n",
    "ipv.xyzlabel(\"value_1\",\"value_2\", \"response\")\n",
    "ipv.xlim(xmin=-5.0, xmax=5.0)\n",
    "ipv.ylim(ymin=-5, ymax=5.0)\n",
    "ipv.zlim(zmin=-150.0, zmax=150.0)\n",
    "ipv.show()\n",
    "#scatter_plotted_1.jpg & scatter_plotted_2.jpg"
   ]
  },
  {
   "cell_type": "code",
   "execution_count": 9,
   "metadata": {},
   "outputs": [],
   "source": [
    "X = data.drop(\"response\", axis=1)\n",
    "Y = data[\"response\"]\n",
    "\n",
    "Xtrain, Xtest, ytrain, ytest = train_test_split(X, Y,\n",
    "                                                test_size = 0.33, random_state=0)\n",
    "mlp_data_200 = pd.DataFrame(columns=['hidden_node_count', \"training_mse\", \"testing_mse\",\"r2_score\"])\n",
    "mlp_data_1000 = pd.DataFrame(columns=['hidden_node_count', \"training_mse\", \"testing_mse\",\"r2_score\"])\n",
    "mlp_data_4000 = pd.DataFrame(columns=['hidden_node_count', \"training_mse\", \"testing_mse\",\"r2_score\"])"
   ]
  },
  {
   "cell_type": "markdown",
   "metadata": {},
   "source": [
    "<h3>Finding the best maximum iteration to use</h3>"
   ]
  },
  {
   "cell_type": "code",
   "execution_count": 10,
   "metadata": {
    "collapsed": true,
    "jupyter": {
     "outputs_hidden": true
    }
   },
   "outputs": [
    {
     "name": "stdout",
     "output_type": "stream",
     "text": [
      "Node count\n",
      "600\n",
      "620\n",
      "640\n",
      "660\n",
      "680\n",
      "700\n",
      "720\n",
      "740\n",
      "760\n",
      "780\n",
      "800\n",
      "820\n",
      "840\n",
      "860\n",
      "880\n",
      "900\n",
      "920\n",
      "940\n",
      "960\n",
      "980\n",
      "1000\n"
     ]
    }
   ],
   "source": [
    "print(\"Node count\")\n",
    "for node in range(600,1020,20):\n",
    "    reg = MLPRegressor(hidden_layer_sizes=(node,), max_iter=200, activation = \"tanh\", random_state=0)\n",
    "    model = reg.fit(Xtrain,ytrain)\n",
    "    \n",
    "    y_pred_train =  model.predict(Xtrain)\n",
    "    y_pred_test = model.predict(Xtest)\n",
    "    \n",
    "    mlp_data_200 = mlp_data_200.append({\n",
    "        'hidden_node_count': node,\n",
    "        'training_mse': mean_squared_error(ytrain,y_pred_train),\n",
    "       'testing_mse': mean_squared_error(ytest, y_pred_test),\n",
    "        'r2_score': r2_score(ytest, y_pred_test)\n",
    "    }, ignore_index=True)\n",
    "\n",
    "    reg = MLPRegressor(hidden_layer_sizes=(node,), max_iter=1000, activation = \"tanh\", random_state=0)\n",
    "    model = reg.fit(Xtrain,ytrain)\n",
    "    \n",
    "    y_pred_train =  model.predict(Xtrain)\n",
    "    y_pred_test = model.predict(Xtest)\n",
    "    \n",
    "    mlp_data_1000 = mlp_data_1000.append({\n",
    "        'hidden_node_count': node,\n",
    "        'training_mse': mean_squared_error(ytrain,y_pred_train),\n",
    "        'testing_mse': mean_squared_error(ytest, y_pred_test),\n",
    "        'r2_score': r2_score(ytest, y_pred_test)\n",
    "    }, ignore_index=True)\n",
    "\n",
    "    reg = MLPRegressor(hidden_layer_sizes=(node,), max_iter=4000, activation = \"tanh\", random_state=0)\n",
    "    model = reg.fit(Xtrain,ytrain)\n",
    "    \n",
    "    y_pred_train =  model.predict(Xtrain)\n",
    "    y_pred_test = model.predict(Xtest)\n",
    "    \n",
    "    mlp_data_4000 = mlp_data_4000.append({\n",
    "        'hidden_node_count': node,\n",
    "        'training_mse': mean_squared_error(ytrain,y_pred_train),\n",
    "        'testing_mse': mean_squared_error(ytest, y_pred_test),\n",
    "        'r2_score': r2_score(ytest, y_pred_test)\n",
    "    }, ignore_index=True)\n",
    "    \n",
    "    print(node)\n"
   ]
  },
  {
   "cell_type": "code",
   "execution_count": 11,
   "metadata": {},
   "outputs": [
    {
     "data": {
      "text/plain": [
       "Text(0.5, 0, 'Number of nodes')"
      ]
     },
     "execution_count": 11,
     "metadata": {},
     "output_type": "execute_result"
    },
    {
     "data": {
      "image/png": "[encoded data removed]",
      "text/plain": [
       "<Figure size 720x432 with 1 Axes>"
      ]
     },
     "metadata": {
      "needs_background": "light"
     },
     "output_type": "display_data"
    }
   ],
   "source": [
    "r2_fig = plt.figure(figsize = (10,6))\n",
    "plt.plot(mlp_data_200[\"hidden_node_count\"],mlp_data_200[\"r2_score\"], label = 'Training_200')\n",
    "plt.plot(mlp_data_1000[\"hidden_node_count\"],mlp_data_1000[\"r2_score\"], label = 'Training_1000')\n",
    "plt.plot(mlp_data_4000[\"hidden_node_count\"],mlp_data_4000[\"r2_score\"], label = 'Training_4000')\n",
    "plt.legend(loc=\"upper right\")\n",
    "plt.ylabel('R2 Score')\n",
    "plt.xlabel('Number of nodes')\n",
    "#R2_score.jpg"
   ]
  },
  {
   "cell_type": "code",
   "execution_count": 12,
   "metadata": {},
   "outputs": [
    {
     "data": {
      "text/plain": [
       "Text(0.5, 0, 'Number of nodes')"
      ]
     },
     "execution_count": 12,
     "metadata": {},
     "output_type": "execute_result"
    },
    {
     "data": {
      "image/png": "[encoded data removed]",
      "text/plain": [
       "<Figure size 720x432 with 1 Axes>"
      ]
     },
     "metadata": {
      "needs_background": "light"
     },
     "output_type": "display_data"
    }
   ],
   "source": [
    "plt.figure(figsize = (10,6))\n",
    "plt.plot(mlp_data_200[\"hidden_node_count\"],mlp_data_200[\"training_mse\"], label = 'Training_200')\n",
    "plt.plot(mlp_data_200[\"hidden_node_count\"],mlp_data_200[\"testing_mse\"], label = 'Validation_200')\n",
    "plt.plot(mlp_data_1000[\"hidden_node_count\"],mlp_data_1000[\"training_mse\"], label = 'Training_1000')\n",
    "plt.plot(mlp_data_1000[\"hidden_node_count\"],mlp_data_1000[\"testing_mse\"], label = 'Validation_1000')\n",
    "plt.plot(mlp_data_4000[\"hidden_node_count\"],mlp_data_4000[\"training_mse\"], label = 'Training_4000')\n",
    "plt.plot(mlp_data_4000[\"hidden_node_count\"],mlp_data_4000[\"testing_mse\"], label = 'Validation_4000')\n",
    "plt.legend(loc=\"upper right\")\n",
    "plt.ylabel('Mean Squared Error')\n",
    "plt.xlabel('Number of nodes')\n",
    "#MSE.jpg"
   ]
  },
  {
   "cell_type": "markdown",
   "metadata": {},
   "source": [
    "<h3>Finding the best node count</h3>"
   ]
  },
  {
   "cell_type": "code",
   "execution_count": 13,
   "metadata": {},
   "outputs": [
    {
     "name": "stdout",
     "output_type": "stream",
     "text": [
      "Node count with best MSE\n",
      "   hidden_node_count  training_mse  testing_mse  r2_score\n",
      "8              760.0    582.769661    606.49737  0.737798\n",
      "Node count with best R2 score\n",
      "   hidden_node_count  training_mse  testing_mse  r2_score\n",
      "8              760.0    582.769661    606.49737  0.737798\n"
     ]
    }
   ],
   "source": [
    "print(\"Node count with best MSE\")\n",
    "print(mlp_data_1000[mlp_data_1000.testing_mse == mlp_data_1000.testing_mse.min()])\n",
    "print(\"Node count with best R2 score\")\n",
    "print(mlp_data_1000[mlp_data_1000.r2_score == mlp_data_1000.r2_score.max()])"
   ]
  },
  {
   "cell_type": "markdown",
   "metadata": {},
   "source": [
    "<h3>Using the best node count</h3>"
   ]
  },
  {
   "cell_type": "code",
   "execution_count": 14,
   "metadata": {},
   "outputs": [
    {
     "name": "stdout",
     "output_type": "stream",
     "text": [
      "Mean Squared Error: 605.6826415328733\n"
     ]
    }
   ],
   "source": [
    "reg = MLPRegressor(hidden_layer_sizes=(720,), max_iter=1000, random_state=0, activation = \"tanh\")\n",
    "\n",
    "model = reg.fit(Xtrain,ytrain)\n",
    "y_pred = model.predict(Xtest)\n",
    "\n",
    "print(\"Mean Squared Error:\",mean_squared_error(ytest, y_pred_test))\n",
    "X = Xtest[\"value_1\"].to_numpy(dtype=float)\n",
    "Y = Xtest[\"value_2\"].to_numpy(dtype=float)\n",
    "Z = y_pred"
   ]
  },
  {
   "cell_type": "markdown",
   "metadata": {},
   "source": [
    "<h3>Model predictions with test data visualised</h3>"
   ]
  },
  {
   "cell_type": "code",
   "execution_count": 15,
   "metadata": {},
   "outputs": [
    {
     "data": {
      "application/vnd.jupyter.widget-view+json": {
       "model_id": "5ce9455588c7413cad609ff0287890d5",
       "version_major": 2,
       "version_minor": 0
      },
      "text/plain": [
       "VBox(children=(Figure(camera=PerspectiveCamera(fov=45.0, position=(0.0, 0.0, 2.0), projectionMatrix=(1.0, 0.0,…"
      ]
     },
     "metadata": {},
     "output_type": "display_data"
    }
   ],
   "source": [
    "fig = ipv.figure()\n",
    "#scatter = ipv.scatter(x,y,z, marker=\"sphere\", color=\"red\")\n",
    "scatter = ipv.scatter(X,Y,Z, marker=\"sphere\", color=\"blue\")\n",
    "ipv.xyzlabel(\"value_1\",\"value_2\", \"response\")\n",
    "ipv.xlim(xmin=-5.0, xmax=5.0)\n",
    "ipv.ylim(ymin=-5.0, ymax=5.0)\n",
    "ipv.zlim(zmin=-150.0, zmax=150.0)      \n",
    "ipv.show()\n",
    "#scatter_720_nodes_1.jpg & scatter_720_nodes_2.jpg"
   ]
  },
  {
   "cell_type": "markdown",
   "metadata": {},
   "source": [
    "<h3>Model predictions compared with original data</h3>"
   ]
  },
  {
   "cell_type": "code",
   "execution_count": 16,
   "metadata": {},
   "outputs": [
    {
     "data": {
      "application/vnd.jupyter.widget-view+json": {
       "model_id": "5bd3e8a6276f494981edc33f80b00f14",
       "version_major": 2,
       "version_minor": 0
      },
      "text/plain": [
       "VBox(children=(Figure(camera=PerspectiveCamera(fov=45.0, position=(0.0, 0.0, 2.0), projectionMatrix=(1.0, 0.0,…"
      ]
     },
     "metadata": {},
     "output_type": "display_data"
    }
   ],
   "source": [
    "fig = ipv.figure()\n",
    "scatter = ipv.scatter(x,y,z, marker=\"sphere\", color=\"red\")\n",
    "scatter = ipv.scatter(X,Y,Z, marker=\"sphere\", color=\"blue\")\n",
    "ipv.xyzlabel(\"value_1\",\"value_2\", \"response\")\n",
    "ipv.xlim(xmin=-5.0, xmax=5.0)\n",
    "ipv.ylim(ymin=-5.0, ymax=5.0)\n",
    "ipv.zlim(zmin=-150.0, zmax=150.0)      \n",
    "ipv.show()\n",
    "#model_orginal_scatter_1.jpg & model_orginal_scatter_2.jpg"
   ]
  },
  {
   "cell_type": "markdown",
   "metadata": {},
   "source": [
    "<h3>Discussion</h3>\n",
    "<p>I originally tested the MLPRegressor with varying maximum iterations (MI) at values 200, 1000, and 4000. A MI set to 200 would cause MSE to be large and R2 to be small even with a large increase in node size, increasing the maximum iteration allowed for a smaller MSE and larger R2. I noticed at 1000 MI, MSE and R2 score were almost identical to 4000 MI after 600 nodes, for this reason I choose to use 1000 MI as it required less computing power and time. The default activation function was RElu, this function created a linear regression for the response axis and value_1 axis as well as the response axis and value_2 axis when it was obvious that the original data set produced a 3D scatter graph that curved. To fix this I used the TanH activation function which also produced a lower MSE and higher R2 score. After testing node values at intervals of 20 from 600 to 1000 I found that the node with the best R2 score and MSE was 720. I limited testing to 1000 nodes to prevent overfitting the model. I plotted both the model predictions and the actual data onto a 3D scatter graph to compare visually compare them. The test data and original data fit the same pattern, so I think the number of nodes as well as parameters used were justified. The random state = 0 is used for the purpose of data and images provided to match up, it can be removed.</p>"
   ]
  }
 ],
 "metadata": {
  "kernelspec": {
   "display_name": "Python 3",
   "language": "python",
   "name": "python3"
  },
  "language_info": {
   "codemirror_mode": {
    "name": "ipython",
    "version": 3
   },
   "file_extension": ".py",
   "mimetype": "text/x-python",
   "name": "python",
   "nbconvert_exporter": "python",
   "pygments_lexer": "ipython3",
   "version": "3.8.8"
  }
 },
 "nbformat": 4,
 "nbformat_minor": 4
}
